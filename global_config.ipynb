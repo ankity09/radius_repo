{
 "cells": [
  {
   "cell_type": "markdown",
   "metadata": {
    "application/vnd.databricks.v1+cell": {
     "cellMetadata": {},
     "inputWidgets": {},
     "nuid": "c0b39860-3148-4b52-86ff-45d2a7020ec0",
     "showTitle": false,
     "tableResultSettingsMap": {},
     "title": ""
    }
   },
   "source": [
    "Setting up Global Configuration File"
   ]
  },
  {
   "cell_type": "code",
   "execution_count": 0,
   "metadata": {
    "application/vnd.databricks.v1+cell": {
     "cellMetadata": {},
     "inputWidgets": {},
     "nuid": "5ba7a999-6765-4f30-a7b6-d83c4dc32a1c",
     "showTitle": false,
     "tableResultSettingsMap": {},
     "title": ""
    }
   },
   "outputs": [],
   "source": [
    "UC_CATALOG_NAME = \"ankit_yadav\"\n",
    "UC_SCHEMA_NAME = \"radius_schema\"\n",
    "UC_VOLUME_NAME = \"radius_unstructured_data\"\n",
    "\n",
    "#EMBEDDING_MODEL_ENDPOINT = \"databricks-gte-large-en\"\n",
    "EMBEDDING_MODEL_ENDPOINT = \"databricks-bge-large-en\"\n",
    "LLM_ENDPOINT_NAME = \"databricks-claude-3-7-sonnet\"\n",
    "\n",
    "\n",
    "VECTOR_SEARCH_ENDPOINT = \"one-env-shared-endpoint-9\"\n",
    "CHUNKED_DOCS_DELTA_TABLE = f\"{UC_CATALOG_NAME}.{UC_SCHEMA_NAME}.chunked_texts\"\n",
    "VECTOR_INDEX_NAME = f\"{UC_CATALOG_NAME}.{UC_SCHEMA_NAME}.ankit_yadav_uct_index\" #TODO change name\n",
    "INDEX_NAME = f\"{UC_CATALOG_NAME}.{UC_SCHEMA_NAME}.ankit_yadav_uct_index\"\n",
    "VS_DESCRIPTION = \"Search through vector embeddings to find relevant information\"\n",
    "MODEL_NAME = \"agent_with_vs\""
   ]
  },
  {
   "cell_type": "markdown",
   "metadata": {
    "application/vnd.databricks.v1+cell": {
     "cellMetadata": {},
     "inputWidgets": {},
     "nuid": "13c41885-822d-4b9a-b350-6ed6f6cbc785",
     "showTitle": false,
     "tableResultSettingsMap": {},
     "title": ""
    }
   },
   "source": [
    "Unstructured Data Configurations"
   ]
  },
  {
   "cell_type": "code",
   "execution_count": 0,
   "metadata": {
    "application/vnd.databricks.v1+cell": {
     "cellMetadata": {},
     "inputWidgets": {},
     "nuid": "38caffab-47fe-44a4-bac4-6a0f53651b16",
     "showTitle": true,
     "tableResultSettingsMap": {},
     "title": "Text Data Table and Folder Configuration"
    }
   },
   "outputs": [],
   "source": [
    "DOCS_DATA_TABLE_NAME = \"docs_data_texts\"\n",
    "DOCS_DATA_VOLUME_FOLDER = \"text_data\""
   ]
  },
  {
   "cell_type": "code",
   "execution_count": 0,
   "metadata": {
    "application/vnd.databricks.v1+cell": {
     "cellMetadata": {},
     "inputWidgets": {},
     "nuid": "d5857c4e-6519-4e27-8a79-42885eafc286",
     "showTitle": true,
     "tableResultSettingsMap": {},
     "title": "BI Genie Agent Configuration Details"
    }
   },
   "outputs": [],
   "source": [
    "# GENIE_SPACE_ID = \"01f01e4560791e67a5f137184cab7205\"\n",
    "# GENIE_SPACE_DESCRIPTION = \"This genie agent can answer BI questions related to Fluke products\"\n",
    "# SECRET_SCOPE_NAME = \"\"\n",
    "# SECET_KEY_NAME = \"\""
   ]
  }
 ],
 "metadata": {
  "application/vnd.databricks.v1+notebook": {
   "computePreferences": null,
   "dashboards": [],
   "environmentMetadata": {
    "base_environment": "",
    "environment_version": "2"
   },
   "inputWidgetPreferences": null,
   "language": "python",
   "notebookMetadata": {
    "pythonIndentUnit": 2
   },
   "notebookName": "global_config",
   "widgets": {}
  },
  "language_info": {
   "name": "python"
  }
 },
 "nbformat": 4,
 "nbformat_minor": 0
}
